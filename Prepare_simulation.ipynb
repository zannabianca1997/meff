{
 "cells": [
  {
   "cell_type": "code",
   "execution_count": 1,
   "metadata": {},
   "outputs": [],
   "source": [
    "import numpy as np\n",
    "from math import ceil\n",
    "from itertools import product\n",
    "\n",
    "#naming\n",
    "import hashlib\n",
    "import json\n",
    "import base64\n",
    "\n",
    "#storage\n",
    "import shelve\n",
    "import zlib\n",
    "\n",
    "# filesistem\n",
    "import tempfile\n",
    "import os\n",
    "\n",
    "# pretty printing\n",
    "from pprint import pformat\n",
    "from IPython.display import Markdown\n",
    "\n",
    "def get_sub_sim_name(setup):\n",
    "    val = json.dumps(setup, separators=(',', ':'), sort_keys=True)  # dump to json\n",
    "    val = hashlib.sha224(val.encode(\"utf-8\")).digest()  # hash to fast compare\n",
    "    val = base64.urlsafe_b64encode(val).decode(\"ascii\")\n",
    "    val += \".subsim\"\n",
    "    return val\n",
    "\n",
    "def get_simulator_name(V_tilde_def):\n",
    "    val = hashlib.sha224(V_tilde_def.encode(\"utf-8\")).digest()  # hash to fast compare\n",
    "    val = base64.urlsafe_b64encode(val).decode(\"ascii\")\n",
    "    val += \".simulator\"\n",
    "    return val   \n",
    "\n",
    "with open(\"simulate.c\") as simulate_code:\n",
    "    SIMULATE_HASH = hashlib.sha224(simulate_code.read().encode(\"utf-8\")).hexdigest()"
   ]
  },
  {
   "cell_type": "markdown",
   "metadata": {},
   "source": [
    "# Setup della simulazione\n",
    "Vedi http://localhost:8888/lab/tree/report.pdf per vedere le condizioni su di esse"
   ]
  },
  {
   "cell_type": "code",
   "execution_count": 2,
   "metadata": {},
   "outputs": [],
   "source": [
    "file_name = \"./simulation_data/square_hq.wip\"\n",
    "\n",
    "# seed\n",
    "seed = [42]\n",
    "\n",
    "# simulation setups\n",
    "d = list(np.linspace(0.1, 10, 5))\n",
    "beta_tilde = [300]\n",
    "eta = [0.001]\n",
    "# normalized potential\n",
    "V_tilde = [\"if(y - floor(y) < 0.5) return 0; else return -1;\"]\n",
    "\n",
    "# markov chain setup\n",
    "step_size = [0.4]  # how much can every point change\n",
    "local_steps = [5]  # how many local steps should be done \n",
    "measure_every = [1000] # how much complete pass are done between a measuration\n",
    "measuration_to_take = [500] # how much measuration are to be taken\n",
    "\n",
    "# simulator\n",
    "simulator_files = [\"simulate.c\", \"mtwister/mtwister.c\", \"mtwister/mtwister.h\"]\n",
    "sources = [\"simulate.c\", \"mtwister.c\"]\n",
    "invocation_string = \"{seed} {d} {eta} {N} {local_steps} {measuration_to_take} {measure_every} {step_size}\""
   ]
  },
  {
   "cell_type": "markdown",
   "metadata": {},
   "source": [
    "La simulazione viene compattata in un dizionario e viene creato il file .wip (se esiste ne vengono semplicemente aggiornati i setup)"
   ]
  },
  {
   "cell_type": "code",
   "execution_count": 3,
   "metadata": {},
   "outputs": [],
   "source": [
    "simulation = {\n",
    "    \"seed\":seed,\n",
    "    \"d\":d,\n",
    "    \"beta_tilde\":beta_tilde,\n",
    "    \"eta\":eta,\n",
    "    \"V_tilde\":V_tilde,\n",
    "    \"step_size\":step_size,\n",
    "    \"local_steps\":local_steps,\n",
    "    \"measure_every\":measure_every,\n",
    "    \"measuration_to_take\":measuration_to_take\n",
    "}\n",
    "with shelve.open(file_name, \"c\") as wip_file:\n",
    "    wip_file[\".setup\"] = simulation\n",
    "    wip_file[\".invocation_string\"] = invocation_string"
   ]
  },
  {
   "cell_type": "markdown",
   "metadata": {},
   "source": [
    "Prima di tutto viene controllato se il simulatore è cambiato. In caso sia i compilati che le simulazioni fatte vengono pulite"
   ]
  },
  {
   "cell_type": "code",
   "execution_count": 4,
   "metadata": {},
   "outputs": [],
   "source": [
    "with shelve.open(file_name, \"w\") as wip_file:\n",
    "    if \".simulate_hash\" in wip_file and wip_file[\".simulate_hash\"] != SIMULATE_HASH:\n",
    "        print(\"Simulator hash has changed, deleting old work\")\n",
    "        for entry in wip_file:\n",
    "            if not entry.startswith(\".\"):\n",
    "                del wip_file[entry]\n",
    "    wip_file[\".simulate_hash\"] = SIMULATE_HASH"
   ]
  },
  {
   "cell_type": "markdown",
   "metadata": {},
   "source": [
    "Vengono create le diverse sub_simulazioni per tutte le possibili combinazioni, e creato un indice che tiene conto dello stato di ciascuna"
   ]
  },
  {
   "cell_type": "code",
   "execution_count": 5,
   "metadata": {},
   "outputs": [
    {
     "name": "stdout",
     "output_type": "stream",
     "text": [
      "Prepped 5 simulations...\n"
     ]
    }
   ],
   "source": [
    "sub_simulations = {}\n",
    "with shelve.open(file_name, \"r\") as wip_file:  # to check if simulation is already done\n",
    "    for setups in product(\n",
    "        seed,\n",
    "        d, \n",
    "        beta_tilde, \n",
    "        eta,\n",
    "        V_tilde, \n",
    "        step_size, \n",
    "        local_steps, \n",
    "        measure_every, \n",
    "        measuration_to_take\n",
    "    ):\n",
    "        # creating seed, taking 8 bytes from setup hash, that already has seed inside\n",
    "        sub_seed = hashlib.sha224(json.dumps(setups, separators=(',', ':'), sort_keys=True).encode(\"ascii\")).digest()[:8] \n",
    "        sub_seed = int.from_bytes(sub_seed, \"little\")\n",
    "        \n",
    "        # calculating true eta\n",
    "        N = ceil(setups[2] / setups[3])  # beta_tilde on eta\n",
    "        true_eta = setups[2] / N # beta_tilde on N\n",
    "        \n",
    "        setups = {  # converting to a dict\n",
    "            'seed':sub_seed,\n",
    "            'd':setups[1], \n",
    "            'N':N, \n",
    "            'eta':true_eta, \n",
    "            'V_tilde':setups[4],\n",
    "            'step_size':setups[5], \n",
    "            'local_steps':setups[6], \n",
    "            'measure_every':setups[7], \n",
    "            'measuration_to_take':setups[8]\n",
    "        }\n",
    "        sub_sim_name = get_sub_sim_name(setups)\n",
    "        sub_simulations[sub_sim_name] = {\n",
    "            \"status\":\"done\" if sub_sim_name in wip_file else \"todo\",  # done if they are there already\n",
    "            \"setup\":setups, \n",
    "            'simulator_name':get_simulator_name(setups['V_tilde']) \n",
    "        }\n",
    "\n",
    "\n",
    "print(f\"Prepped {len(sub_simulations)} simulations...\")\n",
    "\n",
    "with shelve.open(file_name, \"w\") as wip_file:\n",
    "    wip_file[\".index\"] = sub_simulations"
   ]
  },
  {
   "cell_type": "markdown",
   "metadata": {},
   "source": [
    "## Compilare il programma"
   ]
  },
  {
   "cell_type": "markdown",
   "metadata": {},
   "source": [
    " Vengono generati gli header conteneti i vari $\\tilde{V}(y)$. Dopo il file \"simulate.c\" viene compilato contro di essi, il risultato binario viene compattato e salvato"
   ]
  },
  {
   "cell_type": "code",
   "execution_count": 6,
   "metadata": {},
   "outputs": [
    {
     "name": "stdout",
     "output_type": "stream",
     "text": [
      "Compiling 'i233F04XhpGVzRA4DpUioRxyGoxYKsILoBWJig==.simulator'\n"
     ]
    }
   ],
   "source": [
    "for V_tilde_def in V_tilde:\n",
    "    simulator_name = get_simulator_name(V_tilde_def)\n",
    "    with shelve.open(file_name, \"r\") as wip_file:\n",
    "        if simulator_name in wip_file:  #esiste già\n",
    "            print(f\"Skipping already compiled '{simulator_name}'\")\n",
    "            continue\n",
    "    print(f\"Compiling '{simulator_name}'\")\n",
    "    with tempfile.TemporaryDirectory() as build_dir:\n",
    "        # creating V_header\n",
    "        with open(os.path.join(build_dir, \"V_header.c\"), \"w\") as out:\n",
    "            out.write(\"#include <math.h>\\ninline static double V_tilde(double y){\"+V_tilde_def+\"}\")\n",
    "        # copying simulator code\n",
    "        for sim_file in simulator_files:\n",
    "            !cp {sim_file} {build_dir}\n",
    "        # compiling sources\n",
    "        !gcc -std=gnu11 {\" \".join(os.path.join(build_dir, sim_file) for sim_file in sources)} -lm -o {os.path.join(build_dir, \"simulator\")}\n",
    "        # shelving\n",
    "        with open(os.path.join(build_dir, \"simulator\"), \"rb\") as compiled:\n",
    "            with shelve.open(file_name, \"w\") as wip_file:\n",
    "                wip_file[get_simulator_name(V_tilde_def)] = zlib.compress(compiled.read())"
   ]
  },
  {
   "cell_type": "code",
   "execution_count": 7,
   "metadata": {},
   "outputs": [
    {
     "data": {
      "text/markdown": [
       "### Content of the wip file:\n",
       "#### .setup:\n",
       "    {'V_tilde': ['if(y - floor(y) < 0.5) return 0; else return -1;'],\n",
       "     'beta_tilde': [300],\n",
       "     'd': [0.1, 2.575, 5.05, 7.525, 10.0],\n",
       "     'eta': [0.001],\n",
       "     'local_steps': [5],\n",
       "     'measuration_to_take': [500],\n",
       "     'measure_every': [1000],\n",
       "     'seed': [42],\n",
       "     'step_size': [0.4]}\n",
       "#### .simulate_hash:\n",
       "    'd95d2ad1326601dce16c7c311803bf8dfa9a3c0af7b69f1b543e52b3'\n",
       "#### .invocation_string:\n",
       "    ('{seed} {d} {eta} {N} {local_steps} {measuration_to_take} {measure_every} '\n",
       "     '{step_size}')\n",
       "#### .index:\n",
       "    {'7vk7Y5wCHrW4KchfrUgfSJGTGKmpaKkeFrptrQ==.subsim': {'setup': {'N': 300000,\n",
       "                                                                   'V_tilde': 'if(y '\n",
       "                                                                              '- '\n",
       "                                                                              'floor(y) '\n",
       "                                                                              '< '\n",
       "                                                                              '0.5) '\n",
       "                                                                              'return '\n",
       "                                                                              '0; '\n",
       "                                                                              'else '\n",
       "                                                                              'return '\n",
       "                                                                              '-1;',\n",
       "                                                                   'd': 2.575,\n",
       "                                                                   'eta': 0.001,\n",
       "                                                                   'local_steps': 5,\n",
       "                                                                   'measuration_to_take': 500,\n",
       "                                                                   'measure_every': 1000,\n",
       "                                                                   'seed': 13056684252695461855,\n",
       "                                                                   'step_size': 0.4},\n",
       "                                                         'simulator_name': 'i233F04XhpGVzRA4DpUioRxyGoxYKsILoBWJig==.simulator',\n",
       "                                                         'status': 'todo'},\n",
       "     'DuaW5chkb-fsUMyHFkaWi6gfAFTvKBbJbYshSw==.subsim': {'setup': {'N': 300000,\n",
       "                                                                   'V_tilde': 'if(y '\n",
       "                                                                              '- '\n",
       "                                                                              'floor(y) '\n",
       "                                                                              '< '\n",
       "                                                                              '0.5) '\n",
       "                                                                              'return '\n",
       "                                                                              '0; '\n",
       "                                                                              'else '\n",
       "                                                                              'return '\n",
       "                                                                              '-1;',\n",
       "                                                                   'd': 5.05,\n",
       "                                                                   'eta': 0.001,\n",
       "                                                                   'local_steps': 5,\n",
       "                                                                   'measuration_to_take': 500,\n",
       "                                                                   'measure_every': 1000,\n",
       "                                                                   'seed': 16380880228242171167,\n",
       "                                                                   'step_size': 0.4},\n",
       "                                                         'simulator_name': 'i233F04XhpGVzRA4DpUioRxyGoxYKsILoBWJig==.simulator',\n",
       "                                                         'status': 'todo'},\n",
       "     'PQkbwOW9jhhniL7hGJJYnWGGQCssEm5wLfo7Ag==.subsim': {'setup': {'N': 300000,\n",
       "                                                                   'V_tilde': 'if(y '\n",
       "                                                                              '- '\n",
       "                                                                              'floor(y) '\n",
       "                                                                              '< '\n",
       "                                                                              '0.5) '\n",
       "                                                                              'return '\n",
       "                                                                              '0; '\n",
       "                                                                              'else '\n",
       "                                                                              'return '\n",
       "                                                                              '-1;',\n",
       "                                                                   'd': 0.1,\n",
       "                                                                   'eta': 0.001,\n",
       "                                                                   'local_steps': 5,\n",
       "                                                                   'measuration_to_take': 500,\n",
       "                                                                   'measure_every': 1000,\n",
       "                                                                   'seed': 7607735254091082090,\n",
       "                                                                   'step_size': 0.4},\n",
       "                                                         'simulator_name': 'i233F04XhpGVzRA4DpUioRxyGoxYKsILoBWJig==.simulator',\n",
       "                                                         'status': 'todo'},\n",
       "     'tiaXUise1orMi25xvpO0nrSyi-8XavklTMeSKg==.subsim': {'setup': {'N': 300000,\n",
       "                                                                   'V_tilde': 'if(y '\n",
       "                                                                              '- '\n",
       "                                                                              'floor(y) '\n",
       "                                                                              '< '\n",
       "                                                                              '0.5) '\n",
       "                                                                              'return '\n",
       "                                                                              '0; '\n",
       "                                                                              'else '\n",
       "                                                                              'return '\n",
       "                                                                              '-1;',\n",
       "                                                                   'd': 7.525,\n",
       "                                                                   'eta': 0.001,\n",
       "                                                                   'local_steps': 5,\n",
       "                                                                   'measuration_to_take': 500,\n",
       "                                                                   'measure_every': 1000,\n",
       "                                                                   'seed': 17136282433980624087,\n",
       "                                                                   'step_size': 0.4},\n",
       "                                                         'simulator_name': 'i233F04XhpGVzRA4DpUioRxyGoxYKsILoBWJig==.simulator',\n",
       "                                                         'status': 'todo'},\n",
       "     'xUYb-HXxqectFVqmuD6tzdUJtMCiMljTwX3big==.subsim': {'setup': {'N': 300000,\n",
       "                                                                   'V_tilde': 'if(y '\n",
       "                                                                              '- '\n",
       "                                                                              'floor(y) '\n",
       "                                                                              '< '\n",
       "                                                                              '0.5) '\n",
       "                                                                              'return '\n",
       "                                                                              '0; '\n",
       "                                                                              'else '\n",
       "                                                                              'return '\n",
       "                                                                              '-1;',\n",
       "                                                                   'd': 10.0,\n",
       "                                                                   'eta': 0.001,\n",
       "                                                                   'local_steps': 5,\n",
       "                                                                   'measuration_to_take': 500,\n",
       "                                                                   'measure_every': 1000,\n",
       "                                                                   'seed': 5997141380644521480,\n",
       "                                                                   'step_size': 0.4},\n",
       "                                                         'simulator_name': 'i233F04XhpGVzRA4DpUioRxyGoxYKsILoBWJig==.simulator',\n",
       "                                                         'status': 'todo'}}\n",
       "#### i233F04XhpGVzRA4DpUioRxyGoxYKsILoBWJig==.simulator:\n",
       "    <binary data>\n"
      ],
      "text/plain": [
       "<IPython.core.display.Markdown object>"
      ]
     },
     "execution_count": 7,
     "metadata": {},
     "output_type": "execute_result"
    }
   ],
   "source": [
    "report = \"### Content of the wip file:\\n\"\n",
    "with shelve.open(file_name, \"r\") as wip_file:\n",
    "    for item in wip_file:\n",
    "        report += f\"#### {item}:\\n    \"\n",
    "        if item.endswith(\".simulator\"):\n",
    "            report += \"<binary data>\\n\"\n",
    "        elif item.endswith(\".subsim\"):\n",
    "            report += pformat(wip_file[item], depth=1).replace(\"\\n\", \"\\n    \") + \"\\n\"\n",
    "        else:\n",
    "            report += pformat(wip_file[item], depth=3).replace(\"\\n\", \"\\n    \") + \"\\n\"\n",
    "Markdown(report)"
   ]
  },
  {
   "cell_type": "code",
   "execution_count": null,
   "metadata": {},
   "outputs": [],
   "source": []
  }
 ],
 "metadata": {
  "kernelspec": {
   "display_name": "Python 3",
   "language": "python",
   "name": "python3"
  },
  "language_info": {
   "codemirror_mode": {
    "name": "ipython",
    "version": 3
   },
   "file_extension": ".py",
   "mimetype": "text/x-python",
   "name": "python",
   "nbconvert_exporter": "python",
   "pygments_lexer": "ipython3",
   "version": "3.8.6"
  }
 },
 "nbformat": 4,
 "nbformat_minor": 4
}
