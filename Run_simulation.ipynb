{
 "cells": [
  {
   "cell_type": "code",
   "execution_count": 1,
   "metadata": {},
   "outputs": [],
   "source": [
    "import numpy as np\n",
    "\n",
    "#storage\n",
    "import shelve\n",
    "import zlib\n",
    "\n",
    "# filesistem\n",
    "import tempfile\n",
    "import os\n",
    "\n",
    "# pretty printing\n",
    "from pprint import pformat\n",
    "from IPython.display import Markdown\n",
    "\n",
    "# multiprocessing\n",
    "from multiprocessing import Pool, cpu_count"
   ]
  },
  {
   "cell_type": "markdown",
   "metadata": {},
   "source": [
    "# Esegue un file .wip"
   ]
  },
  {
   "cell_type": "code",
   "execution_count": 2,
   "metadata": {},
   "outputs": [],
   "source": [
    "file_name = \"./simulation_data/square_hq.wip\"\n",
    "workers = cpu_count()"
   ]
  },
  {
   "cell_type": "markdown",
   "metadata": {},
   "source": [
    "Otteniamo quanto abbiamo ancora da fare, estraendo l'index e eliminando le simulazioni già fatte"
   ]
  },
  {
   "cell_type": "code",
   "execution_count": 3,
   "metadata": {},
   "outputs": [
    {
     "name": "stdout",
     "output_type": "stream",
     "text": [
      "Wip file is 0.0% done\n"
     ]
    }
   ],
   "source": [
    "with shelve.open(file_name, \"r\") as wip_file:\n",
    "    simulations_index = wip_file[\".index\"]\n",
    "total_sims = len(simulations_index)\n",
    "# filtering out already done simulations\n",
    "simulations_index={simulation:simulations_index[simulation] for simulation in simulations_index if simulations_index[simulation]['status'] != \"done\"}\n",
    "print(f\"Wip file is {100 * (1-len(simulations_index)/total_sims)}% done\")"
   ]
  },
  {
   "cell_type": "markdown",
   "metadata": {},
   "source": [
    "Per eseguire una simulazione devo estrarre il simulatore e lanciarlo con i parametri dati, catturando lo stdout"
   ]
  },
  {
   "cell_type": "code",
   "execution_count": 4,
   "metadata": {},
   "outputs": [],
   "source": [
    "with shelve.open(file_name, \"r\") as wip_file:\n",
    "    invocation_string = wip_file[\".invocation_string\"]\n",
    "\n",
    "def run_simulation(simulator_file_name, setup):\n",
    "    # running the simulator\n",
    "    result = !{simulator_file_name} {invocation_string.format(**setup)}\n",
    "    # splitting results and converting to float\n",
    "    result = np.array([\n",
    "        [float(val) for val in line.split(\" \")] \n",
    "        for line in result\n",
    "    ])\n",
    "    result = {\n",
    "        'acceptance': np.mean(result[:,0]),\n",
    "        'measures': result[:,1:]\n",
    "    }\n",
    "    return result"
   ]
  },
  {
   "cell_type": "markdown",
   "metadata": {},
   "source": [
    "Eseguendo ogni simulazione ancora da fare"
   ]
  },
  {
   "cell_type": "code",
   "execution_count": 5,
   "metadata": {},
   "outputs": [
    {
     "name": "stdout",
     "output_type": "stream",
     "text": [
      "Running 'Fwml7t_k_DTpo3TDwhorziQiCfyWqphsCOfBAQ==.subsim'\n",
      "Running 'Ki_tpF8h0Xxw3bQ4B84vahhZWtbeT3pl2U2AfA==.subsim'\n",
      "Running 'vsJ39X48T5vwe8u10DokGSedChB0F-DZHEIJhw==.subsim'\n",
      "Running 'gc5deWrf4zhuu4878OBc2qw3pMDwoDJhnGnOtQ==.subsim'\n",
      "Running 'shWRCE21vKg_xHqJa5Z1Ma65N31euEz8Kzz6Gg==.subsim'\n",
      "'Fwml7t_k_DTpo3TDwhorziQiCfyWqphsCOfBAQ==.subsim' is done.\n",
      "'Ki_tpF8h0Xxw3bQ4B84vahhZWtbeT3pl2U2AfA==.subsim' is done.\n",
      "'vsJ39X48T5vwe8u10DokGSedChB0F-DZHEIJhw==.subsim' is done.\n",
      "'gc5deWrf4zhuu4878OBc2qw3pMDwoDJhnGnOtQ==.subsim' is done.\n",
      "'shWRCE21vKg_xHqJa5Z1Ma65N31euEz8Kzz6Gg==.subsim' is done.\n"
     ]
    }
   ],
   "source": [
    "with tempfile.TemporaryDirectory() as run_dir:\n",
    "    with Pool(workers) as pool:\n",
    "        future_results = {}\n",
    "        # loading calls into the pool\n",
    "        for simulation in simulations_index:\n",
    "            simulations_index[simulation]['status'] = 'running'\n",
    "            with shelve.open(file_name, \"w\") as wip_file:\n",
    "                # marking the simulation as running\n",
    "                wip_file[\".index\"] = simulations_index\n",
    "                # preparing simulator file\n",
    "                simulator_file_name = os.path.join(run_dir, simulations_index[simulation]['simulator_name'])\n",
    "                if not os.path.exists(simulator_file_name):\n",
    "                    with open(simulator_file_name, \"wb\") as simulator_file:\n",
    "                        simulator_file.write(zlib.decompress(wip_file[simulations_index[simulation]['simulator_name']]))\n",
    "                !chmod +x {simulator_file_name}\n",
    "            print(f\"Running '{simulation}'\")\n",
    "            # running the simulation\n",
    "            future_results[simulation] = pool.apply_async(run_simulation, (\n",
    "                simulator_file_name, \n",
    "                simulations_index[simulation]['setup']\n",
    "            ))\n",
    "        # reading results back\n",
    "        for simulation in simulations_index:\n",
    "            result = future_results[simulation].get()\n",
    "            print(f\"'{simulation}' is done.\")\n",
    "            # shelving result\n",
    "            with shelve.open(file_name, \"w\") as wip_file:\n",
    "                wip_file[simulation] = result\n",
    "                simulations_index[simulation]['status'] = 'done'\n",
    "                wip_file[\".index\"] = simulations_index\n",
    "            del future_results[simulation]"
   ]
  },
  {
   "cell_type": "code",
   "execution_count": 6,
   "metadata": {},
   "outputs": [
    {
     "data": {
      "text/markdown": [
       "### Content of the wip file:\n",
       "#### .setup:\n",
       "    {'V_tilde': ['if(y - floor(y) < 0.5) return 0; else return -1;'],\n",
       "     'beta_tilde': [300],\n",
       "     'd': [0.1, 2.575, 5.05, 7.525, 10.0],\n",
       "     'eta': [0.1],\n",
       "     'local_steps': [5],\n",
       "     'measuration_to_take': [500],\n",
       "     'measure_every': [1000],\n",
       "     'seed': [42],\n",
       "     'step_size': [0.4]}\n",
       "#### .simulate_hash:\n",
       "    'd95d2ad1326601dce16c7c311803bf8dfa9a3c0af7b69f1b543e52b3'\n",
       "#### .invocation_string:\n",
       "    ('{seed} {d} {eta} {N} {local_steps} {measuration_to_take} {measure_every} '\n",
       "     '{step_size}')\n",
       "#### shWRCE21vKg_xHqJa5Z1Ma65N31euEz8Kzz6Gg==.subsim:\n",
       "    {'acceptance': 0.463831774,\n",
       "     'measures': array([[ 0.605191,  0.739774,  0.67191 , ...,  0.556328,  0.602865,\n",
       "             0.754756],\n",
       "           [ 0.627657,  0.524662,  0.320106, ...,  0.595322,  0.393966,\n",
       "             0.557206],\n",
       "           [ 0.841865,  1.015168,  0.98873 , ...,  1.433009,  1.409292,\n",
       "             0.929053],\n",
       "           ...,\n",
       "           [-1.501025, -1.487831, -1.508746, ..., -1.460321, -1.500891,\n",
       "            -1.660976],\n",
       "           [-2.11452 , -2.095851, -2.086022, ..., -2.0891  , -2.034467,\n",
       "            -1.957113],\n",
       "           [-1.296853, -1.322768, -1.035227, ..., -1.414119, -1.395813,\n",
       "            -1.424403]])}\n",
       "#### .index:\n",
       "    {'Fwml7t_k_DTpo3TDwhorziQiCfyWqphsCOfBAQ==.subsim': {'setup': {...},\n",
       "                                                         'simulator_name': 'i233F04XhpGVzRA4DpUioRxyGoxYKsILoBWJig==.simulator',\n",
       "                                                         'status': 'done'},\n",
       "     'Ki_tpF8h0Xxw3bQ4B84vahhZWtbeT3pl2U2AfA==.subsim': {'setup': {...},\n",
       "                                                         'simulator_name': 'i233F04XhpGVzRA4DpUioRxyGoxYKsILoBWJig==.simulator',\n",
       "                                                         'status': 'done'},\n",
       "     'gc5deWrf4zhuu4878OBc2qw3pMDwoDJhnGnOtQ==.subsim': {'setup': {...},\n",
       "                                                         'simulator_name': 'i233F04XhpGVzRA4DpUioRxyGoxYKsILoBWJig==.simulator',\n",
       "                                                         'status': 'done'},\n",
       "     'shWRCE21vKg_xHqJa5Z1Ma65N31euEz8Kzz6Gg==.subsim': {'setup': {...},\n",
       "                                                         'simulator_name': 'i233F04XhpGVzRA4DpUioRxyGoxYKsILoBWJig==.simulator',\n",
       "                                                         'status': 'done'},\n",
       "     'vsJ39X48T5vwe8u10DokGSedChB0F-DZHEIJhw==.subsim': {'setup': {...},\n",
       "                                                         'simulator_name': 'i233F04XhpGVzRA4DpUioRxyGoxYKsILoBWJig==.simulator',\n",
       "                                                         'status': 'done'}}\n",
       "#### vsJ39X48T5vwe8u10DokGSedChB0F-DZHEIJhw==.subsim:\n",
       "    {'acceptance': 0.528229012,\n",
       "     'measures': array([[ 0.742469,  0.654279,  0.631659, ...,  0.974946,  0.913329,\n",
       "             0.666843],\n",
       "           [ 1.924199,  1.840366,  1.916606, ...,  1.809291,  1.778121,\n",
       "             1.952068],\n",
       "           [ 0.812877,  0.776929,  0.64454 , ...,  0.722288,  0.697084,\n",
       "             0.555569],\n",
       "           ...,\n",
       "           [-5.621152, -5.528347, -5.2307  , ..., -5.851155, -5.652142,\n",
       "            -5.91879 ],\n",
       "           [-4.062441, -4.287796, -4.271916, ..., -4.314571, -4.511031,\n",
       "            -4.134243],\n",
       "           [-4.123238, -4.399217, -4.489193, ..., -4.158009, -3.743749,\n",
       "            -4.012985]])}\n",
       "#### Ki_tpF8h0Xxw3bQ4B84vahhZWtbeT3pl2U2AfA==.subsim:\n",
       "    {'acceptance': 0.588254246,\n",
       "     'measures': array([[-1.020139, -0.796076, -0.491765, ..., -0.253   , -0.078986,\n",
       "            -0.309121],\n",
       "           [-0.214268, -0.172321,  0.030704, ...,  0.298179,  0.022613,\n",
       "            -0.252965],\n",
       "           [ 2.609717,  2.623973,  2.620476, ...,  2.653002,  2.773114,\n",
       "             2.882385],\n",
       "           ...,\n",
       "           [-2.988055, -2.891322, -2.859329, ..., -2.572028, -2.996292,\n",
       "            -3.075345],\n",
       "           [-5.237595, -5.412798, -5.291681, ..., -4.551598, -4.637732,\n",
       "            -4.765111],\n",
       "           [-5.812358, -5.774146, -5.253997, ..., -5.641038, -5.748207,\n",
       "            -5.50788 ]])}\n",
       "#### Fwml7t_k_DTpo3TDwhorziQiCfyWqphsCOfBAQ==.subsim:\n",
       "    {'acceptance': 0.8033215600000001,\n",
       "     'measures': array([[ 2.092304,  2.032908,  2.827905, ...,  2.809293,  2.445684,\n",
       "             2.120698],\n",
       "           [-0.485275, -0.25306 , -0.202358, ..., -0.295805, -0.509103,\n",
       "            -0.151689],\n",
       "           [ 2.153258,  1.916985,  1.532603, ...,  2.471498,  2.11359 ,\n",
       "             2.249791],\n",
       "           ...,\n",
       "           [-2.43946 , -2.444654, -2.214492, ..., -3.394366, -2.819285,\n",
       "            -2.09228 ],\n",
       "           [-2.512914, -2.953369, -3.281913, ..., -2.1516  , -2.514899,\n",
       "            -2.569653],\n",
       "           [-0.413016, -1.01945 , -0.989828, ..., -1.416382, -1.856446,\n",
       "            -1.802167]])}\n",
       "#### gc5deWrf4zhuu4878OBc2qw3pMDwoDJhnGnOtQ==.subsim:\n",
       "    {'acceptance': 0.490911876,\n",
       "     'measures': array([[ 0.804052,  0.415964,  0.434793, ...,  0.069611,  0.268304,\n",
       "             0.611543],\n",
       "           [ 1.675967,  1.464543,  1.535351, ...,  1.86108 ,  1.877554,\n",
       "             1.563519],\n",
       "           [ 1.648108,  1.735885,  1.762707, ...,  1.215407,  1.360462,\n",
       "             1.586812],\n",
       "           ...,\n",
       "           [-5.612448, -5.780204, -5.802386, ..., -5.035999, -4.955629,\n",
       "            -5.301303],\n",
       "           [-4.517921, -4.908886, -5.078765, ..., -4.289242, -4.265615,\n",
       "            -4.419617],\n",
       "           [-5.973516, -5.943376, -5.616268, ..., -5.779848, -5.98713 ,\n",
       "            -5.897481]])}\n",
       "#### i233F04XhpGVzRA4DpUioRxyGoxYKsILoBWJig==.simulator:\n",
       "    <binary data>\n"
      ],
      "text/plain": [
       "<IPython.core.display.Markdown object>"
      ]
     },
     "execution_count": 6,
     "metadata": {},
     "output_type": "execute_result"
    }
   ],
   "source": [
    "report = \"### Content of the wip file:\\n\"\n",
    "with shelve.open(file_name, \"r\") as wip_file:\n",
    "    for item in wip_file:\n",
    "        report += f\"#### {item}:\\n    \"\n",
    "        if item.endswith(\".simulator\"):\n",
    "            report += \"<binary data>\\n\"\n",
    "        else:\n",
    "            report += pformat(wip_file[item], depth=2).replace(\"\\n\", \"\\n    \") + \"\\n\"\n",
    "Markdown(report)"
   ]
  }
 ],
 "metadata": {
  "kernelspec": {
   "display_name": "Python 3",
   "language": "python",
   "name": "python3"
  },
  "language_info": {
   "codemirror_mode": {
    "name": "ipython",
    "version": 3
   },
   "file_extension": ".py",
   "mimetype": "text/x-python",
   "name": "python",
   "nbconvert_exporter": "python",
   "pygments_lexer": "ipython3",
   "version": "3.8.6"
  }
 },
 "nbformat": 4,
 "nbformat_minor": 4
}
