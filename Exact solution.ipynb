{
 "cells": [
  {
   "cell_type": "markdown",
   "metadata": {},
   "source": [
    "http://lampx.tugraz.at/~hadley/ss1/bloch/blochwave.php"
   ]
  },
  {
   "cell_type": "code",
   "execution_count": 1,
   "metadata": {},
   "outputs": [],
   "source": [
    "from sympy import *\n",
    "from IPython.display import display\n",
    "init_printing()"
   ]
  },
  {
   "cell_type": "markdown",
   "metadata": {},
   "source": [
    "Usando l'hamiltoniana\n",
    "$$\n",
    "    H = \\frac{p^2}{2m} + V(x)\n",
    "$$\n",
    "con $V=-V_0 \\Theta \\left(\\right|x - \\lfloor x \\rfloor \\left| - \\frac{l}{2} \\right) $.\n",
    "Ponendo $k=\\sqrt{2m(\\epsilon+V_0)}$ e $\\alpha = \\sqrt{-2m\\epsilon}$ abbiamo che le soluzioni dell'equazione di schrodinger per $E \\in \\left[-V_0, 0\\right]$ sono\n",
    "$$\n",
    "    \\psi(x) = Ae^{i\\frac{kx}{\\hbar}} + Be^{-i\\frac{kx}{\\hbar}}\n",
    "$$\n",
    "dentro le buche e \n",
    "$$\n",
    "    \\psi(x) = Ae^{\\frac{\\alpha x}{\\hbar}} + Be^{\\frac{\\alpha x}{\\hbar}}\n",
    "$$\n",
    "fuori da esse."
   ]
  },
  {
   "cell_type": "code",
   "execution_count": 2,
   "metadata": {},
   "outputs": [],
   "source": [
    "m, V_0, l, hbar = symbols(\"m V_0 l hbar\", real=True, positive=True)\n",
    "\n",
    "#k = sqrt(2*m*(E + V_0))\n",
    "#alpha = sqrt(-2*m*E)\n",
    "k, alpha = symbols(\"k alpha\", real=True, positive=True)"
   ]
  },
  {
   "cell_type": "markdown",
   "metadata": {},
   "source": [
    "Ponendo $x=0$ su una discesa del potenziale, connettiamo la soluzione esponenziale con coefficienti $A$, $B$ a quella oscillante con coefficienti $C$, $D$\n",
    "$$\n",
    "    A+B=C+D \\\\\n",
    "    \\frac{\\alpha}{\\hbar}(A-B) = i\\frac{k}{\\hbar}(C-D)\n",
    "$$\n",
    "che implica\n",
    "$$\n",
    "    C = \\frac{1}{2} \\left((A+B) - i\\frac{\\alpha}{k}(A-B)\\right) \\\\\n",
    "    D = \\frac{1}{2} \\left((A+B) + i\\frac{\\alpha}{k}(A-B)\\right)\n",
    "$$"
   ]
  },
  {
   "cell_type": "code",
   "execution_count": 3,
   "metadata": {},
   "outputs": [
    {
     "data": {
      "image/png": "[encoded data removed]",
      "text/latex": [
       "$\\displaystyle C = \\frac{A}{2} + \\frac{B}{2} - \\frac{i \\alpha \\left(A - B\\right)}{2 k}$"
      ],
      "text/plain": [
       "    A   B   ⅈ⋅α⋅(A - B)\n",
       "C = ─ + ─ - ───────────\n",
       "    2   2       2⋅k    "
      ]
     },
     "metadata": {},
     "output_type": "display_data"
    },
    {
     "data": {
      "image/png": "[encoded data removed]",
      "text/latex": [
       "$\\displaystyle D = \\frac{A}{2} + \\frac{B}{2} + \\frac{i \\alpha \\left(A - B\\right)}{2 k}$"
      ],
      "text/plain": [
       "    A   B   ⅈ⋅α⋅(A - B)\n",
       "D = ─ + ─ + ───────────\n",
       "    2   2       2⋅k    "
      ]
     },
     "metadata": {},
     "output_type": "display_data"
    }
   ],
   "source": [
    "A, B = symbols(\"A B\")\n",
    "\n",
    "C = (A+B - I*alpha/k*(A-B))/2\n",
    "D = (A+B + I*alpha/k*(A-B))/2\n",
    "display(\n",
    "    Eq(symbols(\"C\"),C),\n",
    "    Eq(symbols(\"D\"),D)\n",
    ")"
   ]
  },
  {
   "cell_type": "markdown",
   "metadata": {},
   "source": [
    "Translando la funzione di $\\frac{l}{2}$ affronto ora la risalita del potenziale:\n",
    "$$\n",
    "    Ce^{i\\frac{kl}{2\\hbar}}+De^{-i\\frac{kl}{2\\hbar}}=E+F \\\\\n",
    "    i\\frac{k}{\\hbar}(Ce^{i\\frac{kl}{2\\hbar}}-De^{-i\\frac{kl}{2\\hbar}}) = \\frac{\\alpha}{\\hbar}(E-F)\n",
    "$$\n",
    "che implica\n",
    "$$\n",
    "    E = \\frac{1}{2} \\left(Ce^{i\\frac{kl}{2\\hbar}}+De^{-i\\frac{kl}{2\\hbar}} + i\\frac{k}{\\alpha}(Ce^{i\\frac{kl}{2\\hbar}}-De^{-i\\frac{kl}{2\\hbar}})\\right) \\\\\n",
    "    F = \\frac{1}{2} \\left(Ce^{i\\frac{kl}{2\\hbar}}+De^{-i\\frac{kl}{2\\hbar}} - i\\frac{k}{\\alpha}(Ce^{i\\frac{kl}{2\\hbar}}-De^{-i\\frac{kl}{2\\hbar}})\\right)\n",
    "$$"
   ]
  },
  {
   "cell_type": "code",
   "execution_count": 4,
   "metadata": {},
   "outputs": [
    {
     "data": {
      "image/png": "[encoded data removed]",
      "text/latex": [
       "$\\displaystyle E = A \\left(\\left(\\frac{\\alpha}{2 k} - \\frac{k}{2 \\alpha}\\right) \\sin{\\left(\\frac{k l}{2 \\hbar} \\right)} + \\cos{\\left(\\frac{k l}{2 \\hbar} \\right)}\\right) + B \\left(- \\frac{\\alpha}{2 k} - \\frac{k}{2 \\alpha}\\right) \\sin{\\left(\\frac{k l}{2 \\hbar} \\right)}$"
      ],
      "text/plain": [
       "      ⎛⎛ α     k ⎞    ⎛k⋅l⎞      ⎛k⋅l⎞⎞     ⎛   α     k ⎞    ⎛k⋅l⎞\n",
       "E = A⋅⎜⎜─── - ───⎟⋅sin⎜───⎟ + cos⎜───⎟⎟ + B⋅⎜- ─── - ───⎟⋅sin⎜───⎟\n",
       "      ⎝⎝2⋅k   2⋅α⎠    ⎝2⋅h̅⎠      ⎝2⋅h̅⎠⎠     ⎝  2⋅k   2⋅α⎠    ⎝2⋅h̅⎠"
      ]
     },
     "metadata": {},
     "output_type": "display_data"
    },
    {
     "data": {
      "image/png": "[encoded data removed]",
      "text/latex": [
       "$\\displaystyle F = A \\left(\\frac{\\alpha}{2 k} + \\frac{k}{2 \\alpha}\\right) \\sin{\\left(\\frac{k l}{2 \\hbar} \\right)} + B \\left(\\left(- \\frac{\\alpha}{2 k} + \\frac{k}{2 \\alpha}\\right) \\sin{\\left(\\frac{k l}{2 \\hbar} \\right)} + \\cos{\\left(\\frac{k l}{2 \\hbar} \\right)}\\right)$"
      ],
      "text/plain": [
       "      ⎛ α     k ⎞    ⎛k⋅l⎞     ⎛⎛   α     k ⎞    ⎛k⋅l⎞      ⎛k⋅l⎞⎞\n",
       "F = A⋅⎜─── + ───⎟⋅sin⎜───⎟ + B⋅⎜⎜- ─── + ───⎟⋅sin⎜───⎟ + cos⎜───⎟⎟\n",
       "      ⎝2⋅k   2⋅α⎠    ⎝2⋅h̅⎠     ⎝⎝  2⋅k   2⋅α⎠    ⎝2⋅h̅⎠      ⎝2⋅h̅⎠⎠"
      ]
     },
     "metadata": {},
     "output_type": "display_data"
    }
   ],
   "source": [
    "cs = cos(k*l / (2 * hbar))\n",
    "ss = sin(k*l / (2 * hbar))\n",
    "# writing exponential as sin and cos\n",
    "CDsum = C*(cs+I*ss) + D*(cs-I*ss)\n",
    "CDdif = C*(cs+I*ss) - D*(cs-I*ss)\n",
    "E = (CDsum + I*k/alpha * CDdif)/2\n",
    "F = (CDsum - I*k/alpha * CDdif)/2\n",
    "# collecting sins and coss\n",
    "E = E.expand().collect((A,B)).collect((cs,ss))\n",
    "F = F.expand().collect((A,B)).collect((cs,ss))\n",
    "del CDsum, CDdif\n",
    "display(\n",
    "    Eq(symbols(\"E\"),E),\n",
    "    Eq(symbols(\"F\"),F)\n",
    ")"
   ]
  },
  {
   "cell_type": "markdown",
   "metadata": {},
   "source": [
    "Con un'ultima translazione di $\\frac{l}{2}$ arriviamo infine a esprimere l'operatore di translazione $T$:\n",
    "$$\n",
    "    \\begin{bmatrix} A' \\\\ B' \\end{bmatrix} = T \\begin{bmatrix} A \\\\ B \\end{bmatrix}\n",
    "$$\n",
    "con $A' = Ee^{\\frac{\\alpha l}{2 \\hbar}}$ e $B' = Fe^{\\frac{-\\alpha l}{2 \\hbar}}$ i corrispondenti di $A$ e $B$ della funzione translata di $l$. "
   ]
  },
  {
   "cell_type": "code",
   "execution_count": 5,
   "metadata": {},
   "outputs": [
    {
     "data": {
      "text/latex": [
       "$\\displaystyle \\left[\\begin{matrix}\\left(- \\frac{i \\left(\\frac{\\alpha}{2 k} - \\frac{k}{2 \\alpha}\\right) \\left(e^{\\frac{i k l}{2 \\hbar}} - e^{- \\frac{i k l}{2 \\hbar}}\\right)}{2} + \\frac{e^{\\frac{i k l}{2 \\hbar}}}{2} + \\frac{e^{- \\frac{i k l}{2 \\hbar}}}{2}\\right) e^{\\frac{\\alpha l}{2 \\hbar}} & - \\frac{i \\left(- \\frac{\\alpha}{2 k} - \\frac{k}{2 \\alpha}\\right) \\left(e^{\\frac{i k l}{2 \\hbar}} - e^{- \\frac{i k l}{2 \\hbar}}\\right) e^{\\frac{\\alpha l}{2 \\hbar}}}{2}\\\\- \\frac{i \\left(\\frac{\\alpha}{2 k} + \\frac{k}{2 \\alpha}\\right) \\left(e^{\\frac{i k l}{2 \\hbar}} - e^{- \\frac{i k l}{2 \\hbar}}\\right) e^{- \\frac{\\alpha l}{2 \\hbar}}}{2} & \\left(- \\frac{i \\left(- \\frac{\\alpha}{2 k} + \\frac{k}{2 \\alpha}\\right) \\left(e^{\\frac{i k l}{2 \\hbar}} - e^{- \\frac{i k l}{2 \\hbar}}\\right)}{2} + \\frac{e^{\\frac{i k l}{2 \\hbar}}}{2} + \\frac{e^{- \\frac{i k l}{2 \\hbar}}}{2}\\right) e^{- \\frac{\\alpha l}{2 \\hbar}}\\end{matrix}\\right]$"
      ],
      "text/plain": [
       "⎡⎛                ⎛ ⅈ⋅k⋅l    -ⅈ⋅k⋅l ⎞                    ⎞                    \n",
       "⎢⎜                ⎜ ─────    ───────⎟    ⅈ⋅k⋅l    -ⅈ⋅k⋅l ⎟                    \n",
       "⎢⎜    ⎛ α     k ⎞ ⎜  2⋅h̅      2⋅h̅ ⎟    ─────    ───────⎟  α⋅l               \n",
       "⎢⎜  ⅈ⋅⎜─── - ───⎟⋅⎝ℯ      - ℯ       ⎠     2⋅h̅      2⋅h̅ ⎟  ───              -\n",
       "⎢⎜    ⎝2⋅k   2⋅α⎠                       ℯ        ℯ       ⎟  2⋅h̅              \n",
       "⎢⎜- ───────────────────────────────── + ────── + ────────⎟⋅ℯ                 ─\n",
       "⎢⎝                  2                     2         2    ⎠                    \n",
       "⎢                                                                             \n",
       "⎢                         ⎛ ⅈ⋅k⋅l    -ⅈ⋅k⋅l ⎞  -α⋅l              ⎛            \n",
       "⎢                         ⎜ ─────    ───────⎟  ─────             ⎜            \n",
       "⎢             ⎛ α     k ⎞ ⎜  2⋅h̅      2⋅h̅ ⎟   2⋅h̅             ⎜    ⎛   α   \n",
       "⎢          -ⅈ⋅⎜─── + ───⎟⋅⎝ℯ      - ℯ       ⎠⋅ℯ                  ⎜  ⅈ⋅⎜- ─── +\n",
       "⎢             ⎝2⋅k   2⋅α⎠                                        ⎜    ⎝  2⋅k  \n",
       "⎢          ──────────────────────────────────────────            ⎜- ──────────\n",
       "⎣                              2                                 ⎝            \n",
       "\n",
       "                ⎛ ⅈ⋅k⋅l    -ⅈ⋅k⋅l ⎞  α⋅l             ⎤\n",
       "                ⎜ ─────    ───────⎟  ───             ⎥\n",
       "  ⎛   α     k ⎞ ⎜  2⋅h̅      2⋅h̅ ⎟  2⋅h̅             ⎥\n",
       "ⅈ⋅⎜- ─── - ───⎟⋅⎝ℯ      - ℯ       ⎠⋅ℯ                ⎥\n",
       "   ⎝  2⋅k   2⋅α⎠                                      ⎥\n",
       "─────────────────────────────────────────            ⎥\n",
       "                   2                                 ⎥\n",
       "                                                     ⎥\n",
       "      ⎛ ⅈ⋅k⋅l    -ⅈ⋅k⋅l ⎞                    ⎞       ⎥\n",
       "      ⎜ ─────    ───────⎟    ⅈ⋅k⋅l    -ⅈ⋅k⋅l ⎟       ⎥\n",
       "  k ⎞ ⎜  2⋅h̅      2⋅h̅ ⎟    ─────    ───────⎟  -α⋅l ⎥\n",
       " ───⎟⋅⎝ℯ      - ℯ       ⎠     2⋅h̅      2⋅h̅ ⎟  ─────⎥\n",
       " 2⋅α⎠                       ℯ        ℯ       ⎟   2⋅h̅⎥\n",
       "───────────────────────── + ────── + ────────⎟⋅ℯ     ⎥\n",
       "       2                      2         2    ⎠       ⎦"
      ]
     },
     "metadata": {},
     "output_type": "display_data"
    }
   ],
   "source": [
    "A_prime = (E*exp( alpha * l / (2*hbar))).rewrite(exp).expand(deep=False).collect((A,B))\n",
    "B_prime = (F*exp(-alpha * l / (2*hbar))).rewrite(exp).expand(deep=False).collect((A,B))\n",
    "\n",
    "T = Matrix(\n",
    "    [[A_prime.coeff(A), A_prime.coeff(B)],\n",
    "     [B_prime.coeff(A), B_prime.coeff(B)]]\n",
    ")\n",
    "\n",
    "display(T)"
   ]
  },
  {
   "cell_type": "markdown",
   "metadata": {},
   "source": [
    "Le bande di Bloch si formano quando $T$ ha degli autovalori di modulo 1. Per una matrice bidimensionale gli autovalori sono\n",
    "$$\n",
    "    \\lambda_{\\pm} = \\frac{\\mathrm{Tr}[T] \\pm \\sqrt{\\mathrm{Tr}[T]^2 - 4 \\det{T}}}{2}\n",
    "$$\n",
    "\n",
    "nel nostro caso $det{T} = 1$, grazie all'identità di Abel. Ci sono quindi due casi per gli autovalori:\n",
    "$\\left|\\mathrm{Tr}[T]\\right| > 2$, autovalori reali, e dato che $\\det{T} = 1 = \\lambda_{+} \\lambda_{-}$ entrambi sono diversi da 1,\n",
    "$\\left|\\mathrm{Tr}[T]\\right| \\le 2$, autovalori complessi, e\n",
    "$$\n",
    "    \\bar{\\lambda_{\\pm}}\\lambda_{\\pm} = \\frac{\\mathrm{Tr}[T] \\mp i \\sqrt{4-\\mathrm{Tr}[T]}}{2}\\frac{\\mathrm{Tr}[T] \\pm i \\sqrt{4-\\mathrm{Tr}[T]}}{2}  = 1\n",
    "$$\n",
    "La condizione per le bande è quindi $\\mathrm{Tr}[T] = \\cos(\\theta) \\in [-1, 1]$"
   ]
  },
  {
   "cell_type": "code",
   "execution_count": 6,
   "metadata": {},
   "outputs": [
    {
     "data": {
      "image/png": "[encoded data removed]",
      "text/latex": [
       "$\\displaystyle \\left(- \\frac{i \\left(- \\frac{\\alpha}{2 k} + \\frac{k}{2 \\alpha}\\right) \\left(e^{\\frac{i k l}{2 \\hbar}} - e^{- \\frac{i k l}{2 \\hbar}}\\right)}{2} + \\frac{e^{\\frac{i k l}{2 \\hbar}}}{2} + \\frac{e^{- \\frac{i k l}{2 \\hbar}}}{2}\\right) e^{- \\frac{\\alpha l}{2 \\hbar}} + \\left(- \\frac{i \\left(\\frac{\\alpha}{2 k} - \\frac{k}{2 \\alpha}\\right) \\left(e^{\\frac{i k l}{2 \\hbar}} - e^{- \\frac{i k l}{2 \\hbar}}\\right)}{2} + \\frac{e^{\\frac{i k l}{2 \\hbar}}}{2} + \\frac{e^{- \\frac{i k l}{2 \\hbar}}}{2}\\right) e^{\\frac{\\alpha l}{2 \\hbar}}$"
      ],
      "text/plain": [
       "⎛                  ⎛ ⅈ⋅k⋅l    -ⅈ⋅k⋅l ⎞                    ⎞          ⎛        \n",
       "⎜                  ⎜ ─────    ───────⎟    ⅈ⋅k⋅l    -ⅈ⋅k⋅l ⎟          ⎜        \n",
       "⎜    ⎛   α     k ⎞ ⎜  2⋅h̅      2⋅h̅ ⎟    ─────    ───────⎟  -α⋅l    ⎜    ⎛ α \n",
       "⎜  ⅈ⋅⎜- ─── + ───⎟⋅⎝ℯ      - ℯ       ⎠     2⋅h̅      2⋅h̅ ⎟  ─────   ⎜  ⅈ⋅⎜───\n",
       "⎜    ⎝  2⋅k   2⋅α⎠                       ℯ        ℯ       ⎟   2⋅h̅   ⎜    ⎝2⋅k\n",
       "⎜- ─────────────────────────────────── + ────── + ────────⎟⋅ℯ      + ⎜- ──────\n",
       "⎝                   2                      2         2    ⎠          ⎝        \n",
       "\n",
       "        ⎛ ⅈ⋅k⋅l    -ⅈ⋅k⋅l ⎞                    ⎞     \n",
       "        ⎜ ─────    ───────⎟    ⅈ⋅k⋅l    -ⅈ⋅k⋅l ⎟     \n",
       "    k ⎞ ⎜  2⋅h̅      2⋅h̅ ⎟    ─────    ───────⎟  α⋅l\n",
       " - ───⎟⋅⎝ℯ      - ℯ       ⎠     2⋅h̅      2⋅h̅ ⎟  ───\n",
       "   2⋅α⎠                       ℯ        ℯ       ⎟  2⋅h̅\n",
       "─────────────────────────── + ────── + ────────⎟⋅ℯ   \n",
       "          2                     2         2    ⎠     "
      ]
     },
     "metadata": {},
     "output_type": "display_data"
    }
   ],
   "source": [
    "assert det(T).expand() == 1 #checking\n",
    "\n",
    "T_trace = T.trace()\n",
    "\n",
    "display(T_trace)"
   ]
  },
  {
   "cell_type": "markdown",
   "metadata": {},
   "source": [
    "Tutti gli esponenziali sono funzione del parametro complesso adimensionale\n",
    "$$\n",
    "    \\gamma = \\frac{l}{2 \\hbar} \\left(\\alpha + i k\\right)\n",
    "$$\n",
    "e del suo coniugato. Esso gode inoltre della proprietà $|\\gamma| = \\frac{l}{2 \\hbar} \\sqrt{2mV_0}$"
   ]
  },
  {
   "cell_type": "code",
   "execution_count": 7,
   "metadata": {},
   "outputs": [
    {
     "data": {
      "image/png": "[encoded data removed]",
      "text/latex": [
       "$\\displaystyle \\frac{2 \\left(2 \\gamma^{2} \\sinh^{2}{\\left(\\frac{\\gamma}{2} \\right)} + \\gamma^{2} - 2 \\sinh^{2}{\\left(\\frac{\\overline{\\gamma}}{2} \\right)} \\overline{\\gamma}^{2} - \\overline{\\gamma}^{2}\\right)}{\\gamma^{2} - \\overline{\\gamma}^{2}}$"
      ],
      "text/plain": [
       "  ⎛                            ⎛_⎞  2    2⎞\n",
       "  ⎜   2     2⎛γ⎞    2         2⎜γ⎟ _    _ ⎟\n",
       "2⋅⎜2⋅γ ⋅sinh ⎜─⎟ + γ  - 2⋅sinh ⎜─⎟⋅γ  - γ ⎟\n",
       "  ⎝          ⎝2⎠               ⎝2⎠        ⎠\n",
       "───────────────────────────────────────────\n",
       "                        2                  \n",
       "                   2   _                   \n",
       "                  γ  - γ                   "
      ]
     },
     "metadata": {},
     "output_type": "display_data"
    }
   ],
   "source": [
    "gamma = symbols(\"gamma\")\n",
    "\n",
    "gamma_trace = T_trace.subs(\n",
    "    alpha, (hbar/l) *(gamma + conjugate(gamma))\n",
    ").subs(\n",
    "    k, (hbar/(I*l))*(gamma - conjugate(gamma))\n",
    ")\n",
    "gamma_trace = trigsimp(gamma_trace.rewrite(cos))\n",
    "display(gamma_trace)"
   ]
  },
  {
   "cell_type": "markdown",
   "metadata": {},
   "source": [
    "Armati ora di questa semplice espressione per $\\cos(\\theta)$ riscriviamola in termini dei parametri reali $\\alpha$ e $k$"
   ]
  },
  {
   "cell_type": "code",
   "execution_count": 8,
   "metadata": {},
   "outputs": [
    {
     "data": {
      "image/png": "[encoded data removed]",
      "text/latex": [
       "$\\displaystyle \\frac{\\alpha \\sin{\\left(\\frac{k l}{2 \\hbar} \\right)} \\sinh{\\left(\\frac{\\alpha l}{2 \\hbar} \\right)}}{2 k} + \\cos{\\left(\\frac{k l}{2 \\hbar} \\right)} \\cosh{\\left(\\frac{\\alpha l}{2 \\hbar} \\right)} - \\frac{k \\sin{\\left(\\frac{k l}{2 \\hbar} \\right)} \\sinh{\\left(\\frac{\\alpha l}{2 \\hbar} \\right)}}{2 \\alpha}$"
      ],
      "text/plain": [
       "     ⎛k⋅l⎞     ⎛α⋅l⎞                             ⎛k⋅l⎞     ⎛α⋅l⎞\n",
       "α⋅sin⎜───⎟⋅sinh⎜───⎟                        k⋅sin⎜───⎟⋅sinh⎜───⎟\n",
       "     ⎝2⋅h̅⎠     ⎝2⋅h̅⎠      ⎛k⋅l⎞     ⎛α⋅l⎞        ⎝2⋅h̅⎠     ⎝2⋅h̅⎠\n",
       "──────────────────── + cos⎜───⎟⋅cosh⎜───⎟ - ────────────────────\n",
       "        2⋅k               ⎝2⋅h̅⎠     ⎝2⋅h̅⎠           2⋅α         "
      ]
     },
     "execution_count": 8,
     "metadata": {},
     "output_type": "execute_result"
    }
   ],
   "source": [
    "cos_theta = gamma_trace/2\n",
    "cos_theta =cos_theta.subs(gamma, l/(2*hbar)*(alpha+I*k)).rewrite(exp).expand().rewrite(cos).expand()\n",
    "cos_theta"
   ]
  },
  {
   "cell_type": "markdown",
   "metadata": {},
   "source": [
    "Ottenendo infine la condizione\n",
    "$$\n",
    "    \\left| \\cos(\\theta) \\right| = \\left| \\left(\\frac{\\alpha}{2k} - \\frac{k}{2\\alpha}\\right) \\sin\\left(\\frac{kl}{2 \\hbar}\\right)\\sinh\\left(\\frac{\\alpha l}{2 \\hbar}\\right) + \\cos\\left(\\frac{kl}{2 \\hbar}\\right)\\cosh\\left(\\frac{\\alpha l}{2 \\hbar}\\right) \\right| \\le 1\n",
    "$$\n",
    "Si può vedere come le bande sono centrate intorno al valore $\\left(\\frac{\\alpha}{2k} - \\frac{k}{2\\alpha}\\right) \\tan\\left(\\frac{kl}{2 \\hbar}\\right)\\tanh\\left(\\frac{\\alpha l}{2 \\hbar}\\right) = -1$, facilmente riconoscibile come i livelli di buca singola."
   ]
  },
  {
   "cell_type": "markdown",
   "metadata": {},
   "source": [
    "Convertendola in cartesiane, usando $y =  \\frac{l^2 m}{2 \\hbar^2}\\epsilon$ e $x = \\frac{l^2 m}{2 \\hbar^2}V_0$ si trova un diagramma che mostra come la bande si generino all'approfondirsi della buca (vedi https://www.desmos.com/calculator/rivuvcgyfu)"
   ]
  },
  {
   "cell_type": "code",
   "execution_count": 9,
   "metadata": {},
   "outputs": [
    {
     "data": {
      "image/png": "[encoded data removed]",
      "text/latex": [
       "$\\displaystyle \\frac{\\sqrt{- y} \\sin{\\left(\\sqrt{x + y} \\right)} \\sinh{\\left(\\sqrt{- y} \\right)}}{2 \\sqrt{x + y}} + \\cos{\\left(\\sqrt{x + y} \\right)} \\cosh{\\left(\\sqrt{- y} \\right)} - \\frac{\\sqrt{x + y} \\sin{\\left(\\sqrt{x + y} \\right)} \\sinh{\\left(\\sqrt{- y} \\right)}}{2 \\sqrt{- y}}$"
      ],
      "text/plain": [
       "  ____    ⎛  _______⎞     ⎛  ____⎞                                   _______  \n",
       "╲╱ -y ⋅sin⎝╲╱ x + y ⎠⋅sinh⎝╲╱ -y ⎠      ⎛  _______⎞     ⎛  ____⎞   ╲╱ x + y ⋅s\n",
       "────────────────────────────────── + cos⎝╲╱ x + y ⎠⋅cosh⎝╲╱ -y ⎠ - ───────────\n",
       "               _______                                                        \n",
       "           2⋅╲╱ x + y                                                         \n",
       "\n",
       "  ⎛  _______⎞     ⎛  ____⎞\n",
       "in⎝╲╱ x + y ⎠⋅sinh⎝╲╱ -y ⎠\n",
       "──────────────────────────\n",
       "        ____              \n",
       "    2⋅╲╱ -y               "
      ]
     },
     "execution_count": 9,
     "metadata": {},
     "output_type": "execute_result"
    }
   ],
   "source": [
    "x,y = symbols(\"x y\", real=True)\n",
    "cos_theta_cart = cos_theta.subs(alpha, 2*hbar*sqrt(-y)/l).subs(k, 2*hbar*sqrt(x+y)/l)\n",
    "cos_theta_cart"
   ]
  },
  {
   "cell_type": "markdown",
   "metadata": {},
   "source": [
    "Scegliamo sul grafico un punto in cui vi è una singola banda, larga ma isolata. Prendiamo ad esempio $x=5$\n",
    "Cerchiamo una soluzione numerica a $\\cos(\\theta) = 1$, sapendo che il fondamentale deve essere invariato sotto $T$."
   ]
  },
  {
   "cell_type": "code",
   "execution_count": 10,
   "metadata": {},
   "outputs": [
    {
     "data": {
      "image/png": "[encoded data removed]",
      "text/latex": [
       "$\\displaystyle \\frac{\\sqrt{- y} \\sin{\\left(\\sqrt{y + 5} \\right)} \\sinh{\\left(\\sqrt{- y} \\right)}}{2 \\sqrt{y + 5}} + \\cos{\\left(\\sqrt{y + 5} \\right)} \\cosh{\\left(\\sqrt{- y} \\right)} - \\frac{\\sqrt{y + 5} \\sin{\\left(\\sqrt{y + 5} \\right)} \\sinh{\\left(\\sqrt{- y} \\right)}}{2 \\sqrt{- y}} = 1$"
      ],
      "text/plain": [
       "  ____    ⎛  _______⎞     ⎛  ____⎞                                   _______  \n",
       "╲╱ -y ⋅sin⎝╲╱ y + 5 ⎠⋅sinh⎝╲╱ -y ⎠      ⎛  _______⎞     ⎛  ____⎞   ╲╱ y + 5 ⋅s\n",
       "────────────────────────────────── + cos⎝╲╱ y + 5 ⎠⋅cosh⎝╲╱ -y ⎠ - ───────────\n",
       "               _______                                                        \n",
       "           2⋅╲╱ y + 5                                                         \n",
       "\n",
       "  ⎛  _______⎞     ⎛  ____⎞    \n",
       "in⎝╲╱ y + 5 ⎠⋅sinh⎝╲╱ -y ⎠    \n",
       "────────────────────────── = 1\n",
       "        ____                  \n",
       "    2⋅╲╱ -y                   "
      ]
     },
     "metadata": {},
     "output_type": "display_data"
    },
    {
     "data": {
      "image/png": "[encoded data removed]",
      "text/latex": [
       "$\\displaystyle \\epsilon_{0} = - \\frac{5.99464946124917 \\hbar}{l^{2} m}$"
      ],
      "text/plain": [
       "     -5.99464946124917⋅h̅ \n",
       "ε₀ = ────────────────────\n",
       "              2          \n",
       "             l ⋅m        "
      ]
     },
     "metadata": {},
     "output_type": "display_data"
    }
   ],
   "source": [
    "hole_size = 5\n",
    "\n",
    "cos_theta_spec = cos_theta_cart.subs(x, hole_size)\n",
    "\n",
    "display(Eq(cos_theta_spec, 1))\n",
    "y_0 = nsolve(cos_theta_spec - 1, y, -hole_size*0.999)\n",
    "display(Eq(symbols(\"epsilon_0\"), 2*hbar/(l**2*m)*y_0))"
   ]
  },
  {
   "cell_type": "markdown",
   "metadata": {},
   "source": [
    "Possiamo ora espandere $\\cos(\\theta)$ intorno a $y_0$:\n",
    "$$\n",
    "    \\cos(\\theta) = f(y) \\implies \n",
    "    -\\frac{\\theta^2}{2} = \\left. \\frac{\\partial f}{\\partial y} \\right|_{y=y_0}(y-y_0) \\implies \n",
    "    y = y_0 - \\frac{\\theta^2}{2\\left. \\frac{\\partial f}{\\partial y} \\right|_{y=y_0}}\n",
    "$$\n",
    "Sostituendo $\\theta = \\frac{p l}{\\hbar}$ e $y =  \\frac{l^2 m}{2 \\hbar^2}V_0$ abbiamo alla fine\n",
    "$$\n",
    "    \\epsilon = \\epsilon_0 + \\frac{p^2}{2 \\left( -m \\frac{1}{2} \\left. \\frac{\\partial f}{\\partial y} \\right|_{y=y_0} \\right) }\n",
    "$$\n",
    "che ci dà $m_{eff} = -m \\frac{1}{2} \\left. \\frac{\\partial f}{\\partial y} \\right|_{y=y_0}$"
   ]
  },
  {
   "cell_type": "code",
   "execution_count": 11,
   "metadata": {},
   "outputs": [
    {
     "data": {
      "image/png": "[encoded data removed]",
      "text/latex": [
       "$\\displaystyle 1.21286799738724 m$"
      ],
      "text/plain": [
       "1.21286799738724⋅m"
      ]
     },
     "execution_count": 11,
     "metadata": {},
     "output_type": "execute_result"
    }
   ],
   "source": [
    "m_eff = -m/2 *cos_theta_spec.diff(y).subs(y, y_0)\n",
    "m_eff"
   ]
  },
  {
   "cell_type": "markdown",
   "metadata": {},
   "source": [
    "Si può infine disegnare un grafico che mostra come la massa effettiva aumenta ll'approfondirsi e/o allargarsi della buca"
   ]
  },
  {
   "cell_type": "code",
   "execution_count": 15,
   "metadata": {},
   "outputs": [],
   "source": [
    "hole_sizes = [0.1 + i for i in range(50)]\n",
    "cos_thetas = [cos_theta_cart.subs(x, size) for size in hole_sizes]\n",
    "y_0s = [nsolve(cos_t - 1, y, -size*0.999) for cos_t, size in zip(cos_thetas, hole_sizes)]\n",
    "m_effs_on_m = [-cos_t.diff(y).subs(y, y_0_val)/2 for cos_t, y_0_val in zip(cos_thetas, y_0s)]"
   ]
  },
  {
   "cell_type": "code",
   "execution_count": 16,
   "metadata": {},
   "outputs": [
    {
     "data": {
      "image/png": "[encoded data removed]",
      "text/plain": [
       "<Figure size 1200x800 with 1 Axes>"
      ]
     },
     "metadata": {},
     "output_type": "display_data"
    }
   ],
   "source": [
    "import matplotlib.pyplot as plt\n",
    "import numpy as np\n",
    "\n",
    "y_graph = np.array(m_effs_on_m, dtype=float)\n",
    "x_graph = np.array(hole_sizes, dtype=float) * 2\n",
    "\n",
    "#y=np.log(y-1)\n",
    "#x=np.log(x)\n",
    "\n",
    "plt.figure(figsize=(12,8), dpi= 100, facecolor='w', edgecolor='k')\n",
    "plt.plot(x_graph, y_graph)\n",
    "plt.ylabel(\"$\\\\frac{m_{eff}}{m}$\")\n",
    "plt.xlabel(\"$\\\\frac{l^2 m}{\\\\hbar^2}V_0$\")\n",
    "plt.show()"
   ]
  },
  {
   "cell_type": "markdown",
   "metadata": {},
   "source": [
    "La curva è molto ben approssimata nel range calcolato da una quadratica, con coefficiente:"
   ]
  },
  {
   "cell_type": "code",
   "execution_count": 27,
   "metadata": {},
   "outputs": [
    {
     "name": "stdout",
     "output_type": "stream",
     "text": [
      "$0.00589 \\pm 3.2 \\times 10^{-8}$\n"
     ]
    },
    {
     "data": {
      "text/latex": [
       "$0.00589 \\pm 3.2 \\times 10^{-8}$"
      ],
      "text/plain": [
       "<IPython.core.display.Latex object>"
      ]
     },
     "metadata": {},
     "output_type": "display_data"
    }
   ],
   "source": [
    "from scipy.optimize import curve_fit\n",
    "\n",
    "def fit_func(x, qf):\n",
    "    return qf*x**2 + 1\n",
    "\n",
    "c_fit, c_err = curve_fit(fit_func, x_graph, y_graph)\n",
    "\n",
    "\n",
    "# just showing off\n",
    "from IPython.display import Latex\n",
    "def latex_float(f):\n",
    "    float_str = \"{0:.3g}\".format(f)\n",
    "    if \"e\" in float_str:\n",
    "        base, exponent = float_str.split(\"e\")\n",
    "        return r\"{0} \\times 10^{{{1}}}\".format(base, int(exponent))\n",
    "    else:\n",
    "        return float_str\n",
    "latex_str = f\"${latex_float(c_fit[0])} \\pm {latex_float(c_err[0,0])}$\"\n",
    "#print(latex_str)\n",
    "display(Latex(latex_str))"
   ]
  },
  {
   "cell_type": "code",
   "execution_count": null,
   "metadata": {},
   "outputs": [],
   "source": []
  }
 ],
 "metadata": {
  "kernelspec": {
   "display_name": "Python 3",
   "language": "python",
   "name": "python3"
  },
  "language_info": {
   "codemirror_mode": {
    "name": "ipython",
    "version": 3
   },
   "file_extension": ".py",
   "mimetype": "text/x-python",
   "name": "python",
   "nbconvert_exporter": "python",
   "pygments_lexer": "ipython3",
   "version": "3.8.6"
  }
 },
 "nbformat": 4,
 "nbformat_minor": 4
}
